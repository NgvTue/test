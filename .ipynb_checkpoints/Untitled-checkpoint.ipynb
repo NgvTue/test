{
 "cells": [
  {
   "cell_type": "code",
   "execution_count": 1,
   "id": "9c093182-a118-45cc-b3d8-2104cbd8a74f",
   "metadata": {},
   "outputs": [],
   "source": [
    "import numpy as np\n",
    "import pandas as pd\n",
    "from matplotlib import pyplot as plt \n",
    "import os,sys,json"
   ]
  },
  {
   "cell_type": "code",
   "execution_count": 2,
   "id": "78d2d51a-eeb4-441e-92f2-49b157155c08",
   "metadata": {},
   "outputs": [
    {
     "ename": "SyntaxError",
     "evalue": "EOL while scanning string literal (2043968818.py, line 6)",
     "output_type": "error",
     "traceback": [
      "\u001b[0;36m  File \u001b[0;32m\"/tmp/ipykernel_9682/2043968818.py\"\u001b[0;36m, line \u001b[0;32m6\u001b[0m\n\u001b[0;31m    \"Luật __{R} được quy định như thế nào __{}\u001b[0m\n\u001b[0m                                              ^\u001b[0m\n\u001b[0;31mSyntaxError\u001b[0m\u001b[0;31m:\u001b[0m EOL while scanning string literal\n"
     ]
    }
   ],
   "source": [
    "\n",
    "\n",
    "# INTENT 1: Luat choi \n",
    "\n",
    "\n",
    "template_rule =[\n",
    "    \"cho __{N} __{Q} __{R} với __{bot}\",\n",
    "    \"Luật __{R} được quy định như thế nào __{bot}\",\n",
    "    \"Cho __{N} hỏi Khi nào thì được __{NemBien}\",\n",
    "    \"bao giờ thi bị __{thevang}\",\n",
    "    \"Cho mình hỏi __{R} là gì\",\n",
    "    \"Chiến thuật __{C} có tác dụng gì\",\n",
    "    \"Chiến thuật __{C} thường được sử dụng như thế nào\",\n",
    "    \"cho mình biết đội hình của chiến thuật __{C} sắp xếp như thế nào\",\n",
    "    \"cho tôi biết thông tin của các __{R} trong bóng đá với\",\n",
    "]\n",
    "\n",
    "template_schedule = [\n",
    "    \"Cho __{N} xin lịch thi đấu __{GiaiNgoaiHangAnh} với __{bot}\",\n",
    "    \"__{bot?} cung cấp thông tin lịch thi đấu __{GiaiNgoaiHangAnh} trong __[time} giúp mình với\",\n",
    "    \"__{bot?} cho mình xem lich thi đấu __{GiaiNgoaiHangAnh} với\",\n",
    "    \"Lịch thi đấu __{GiaiNgoaiHangAnh} __{time} như nào hả __{bot}\",\n",
    "    \"hôm nay có trận __{GiaiNgoaiHangAnh} nào không __{bot?}\",\n",
    "    \"Thời gian thi đấu ngày mai bên __{GiaiNgoaiHangAnh}\",\n",
    "    \"Trận giữa chung kết __{GiaiNgoaiHangAnh} bao giờ chiếu nhỉ __{bot?}\",\n",
    "    \"cho mình xin lịch chiếu trận bán kết __{GiaiNgoaiHangAnh} với\"\n",
    "]\n",
    "\n",
    "\n",
    "\n"
   ]
  },
  {
   "cell_type": "code",
   "execution_count": null,
   "id": "00fc5420-a301-4c94-8b0c-438af331eec5",
   "metadata": {},
   "outputs": [],
   "source": []
  }
 ],
 "metadata": {
  "kernelspec": {
   "display_name": "Python 3 (ipykernel)",
   "language": "python",
   "name": "python3"
  },
  "language_info": {
   "codemirror_mode": {
    "name": "ipython",
    "version": 3
   },
   "file_extension": ".py",
   "mimetype": "text/x-python",
   "name": "python",
   "nbconvert_exporter": "python",
   "pygments_lexer": "ipython3",
   "version": "3.8.10"
  }
 },
 "nbformat": 4,
 "nbformat_minor": 5
}
